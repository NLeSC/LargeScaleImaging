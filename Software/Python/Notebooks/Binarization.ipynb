{
 "cells": [
  {
   "cell_type": "code",
   "execution_count": 1,
   "metadata": {
    "collapsed": false
   },
   "outputs": [],
   "source": [
    "import numpy as np\n",
    "import cv2\n",
    "import sys\n",
    "import os\n",
    "sys.path.insert(0, os.path.abspath('..'))\n",
    "\n",
    "import salientregions as sr"
   ]
  },
  {
   "cell_type": "code",
   "execution_count": 2,
   "metadata": {
    "collapsed": false
   },
   "outputs": [],
   "source": [
    "#Load the image\n",
    "path_to_image = '/home/dafne/SalientRegions/LargeScaleImaging/Data/OxFrei/01_graffiti/JPG/_original.jpg'\n",
    "#path_to_image = '../../../Data/OxFrei/09_small_palace/_original.jpg'\n",
    "original = cv2.imread(path_to_image)\n",
    "sr.show_image(original)\n",
    "path_to_image = '/home/dafne/SalientRegions/LargeScaleImaging/Data/OxFrei/01_graffiti/JPG/viewpoint1.jpg'\n",
    "viewpoint = cv2.imread(path_to_image)\n",
    "#sr.show_image(viewpoint)"
   ]
  },
  {
   "cell_type": "code",
   "execution_count": 3,
   "metadata": {
    "collapsed": false
   },
   "outputs": [],
   "source": [
    "#Convert to grey scale\n",
    "grayscale = cv2.cvtColor(original, cv2.COLOR_BGR2GRAY)\n",
    "grayscale1 = cv2.cvtColor(viewpoint, cv2.COLOR_BGR2GRAY)\n",
    "sr.show_image(grayscale)\n",
    "#sr.show_image(grayscale1)"
   ]
  },
  {
   "cell_type": "code",
   "execution_count": null,
   "metadata": {
    "collapsed": false
   },
   "outputs": [],
   "source": [
    "#Binarize with OTSU\n",
    "#t_otsu, binarized = cv2.threshold(grayscale, 0, 255, cv2.THRESH_BINARY+cv2.THRESH_OTSU)\n",
    "binarized = sr.OtsuBinarizer().binarize(grayscale)\n",
    "\n",
    "#ret, binarized1 = cv2.threshold(grayscale1, 0, 255, cv2.THRESH_BINARY+cv2.THRESH_OTSU)\n",
    "sr.show_image(binarized)\n",
    "#sr.show_image(binarized1)"
   ]
  },
  {
   "cell_type": "code",
   "execution_count": null,
   "metadata": {
    "collapsed": false
   },
   "outputs": [],
   "source": [
    "#Binarize according to threshold\n",
    "thres = 128\n",
    "#binarized = sr.binarize(grayscale, threshold=thres)\n",
    "binarizer = sr.ThresholdBinarizer(thres)\n",
    "binarized = binarizer.binarize(grayscale)\n",
    "sr.show_image(binarized)"
   ]
  },
  {
   "cell_type": "code",
   "execution_count": null,
   "metadata": {
    "collapsed": false
   },
   "outputs": [],
   "source": [
    "img = grayscale\n",
    "SE_size_factor = 0.02\n",
    "lam_factor = 3\n",
    "area_factor_large = 0.001\n",
    "area_factor_verylarge = 0.1\n",
    "SE, lam = sr.get_SE(img, SE_size_factor=SE_size_factor, lam_factor=lam_factor)\n",
    "connectivity = 4\n",
    "weights=(0.33,0.33,0.33)\n",
    "\n",
    "print 'lam is: %i' %lam"
   ]
  },
  {
   "cell_type": "code",
   "execution_count": null,
   "metadata": {
    "collapsed": false
   },
   "outputs": [],
   "source": [
    "binarizer = sr.DatadrivenBinarizer(area_factor_large=area_factor_large, area_factor_verylarge=area_factor_verylarge, \n",
    "                                           lam=lam, weights=weights, connectivity=connectivity)\n",
    "binarized = binarizer.binarize(grayscale)"
   ]
  },
  {
   "cell_type": "code",
   "execution_count": null,
   "metadata": {
    "collapsed": false
   },
   "outputs": [],
   "source": [
    "t, binarized_dd = sr.data_driven_binarization(img, area_factor_large=area_factor_large, area_factor_verylarge=area_factor_verylarge, \n",
    "                                           lam=lam, weights=weights, connectivity=connectivity, visualize=True)\n",
    "print t\n",
    "sr.show_image(binarized_dd)"
   ]
  },
  {
   "cell_type": "code",
   "execution_count": 4,
   "metadata": {
    "collapsed": false
   },
   "outputs": [],
   "source": [
    "regions_dmsr = sr.get_salient_regions(original, visualize=False)\n",
    "sr.show_image(original)\n",
    "_ = sr.visualize_elements(original, holes=regions_dmsr['holes'], islands=regions_dmsr['islands'],\n",
    "                     indentations=regions_dmsr['indentations'], protrusions=regions_dmsr['protrusions'])"
   ]
  },
  {
   "cell_type": "code",
   "execution_count": 5,
   "metadata": {
    "collapsed": false
   },
   "outputs": [],
   "source": [
    "regions = sr.get_salient_regions_MSSR(grayscale, min_thres=80, max_thres=90)\n",
    "_ = sr.visualize_elements(original, holes=regions['holes'], islands=regions['islands'],\n",
    "                     indentations=regions['indentations'], protrusions=regions['protrusions'])"
   ]
  },
  {
   "cell_type": "code",
   "execution_count": 6,
   "metadata": {
    "collapsed": false
   },
   "outputs": [
    {
     "data": {
      "text/plain": [
       "False"
      ]
     },
     "execution_count": 6,
     "metadata": {},
     "output_type": "execute_result"
    }
   ],
   "source": [
    "background = np.zeros(original.shape, dtype='uint8')\n",
    "dmsr = sr.visualize_elements(background, holes=regions_dmsr['holes'], islands=regions_dmsr['islands'],\n",
    "                     indentations=regions_dmsr['indentations'], protrusions=regions_dmsr['protrusions'])\n",
    "mssr = sr.visualize_elements(background, holes=regions['holes'], islands=regions['islands'],\n",
    "                     indentations=regions['indentations'], protrusions=regions['protrusions'])\n",
    "sr.image_diff(dmsr, mssr)"
   ]
  },
  {
   "cell_type": "code",
   "execution_count": null,
   "metadata": {
    "collapsed": false
   },
   "outputs": [],
   "source": [
    "a = regions_dmsr['holes']\n",
    "b = regions['holes']\n",
    "sr.show_image(a)\n",
    "sr.show_image(b)\n",
    "sr.show_image(cv2.bitwise_and(a,b))\n",
    "sr.image_diff(a, b)"
   ]
  },
  {
   "cell_type": "code",
   "execution_count": null,
   "metadata": {
    "collapsed": true
   },
   "outputs": [],
   "source": []
  }
 ],
 "metadata": {
  "kernelspec": {
   "display_name": "Python 2",
   "language": "python",
   "name": "python2"
  },
  "language_info": {
   "codemirror_mode": {
    "name": "ipython",
    "version": 2
   },
   "file_extension": ".py",
   "mimetype": "text/x-python",
   "name": "python",
   "nbconvert_exporter": "python",
   "pygments_lexer": "ipython2",
   "version": "2.7.11"
  }
 },
 "nbformat": 4,
 "nbformat_minor": 0
}
