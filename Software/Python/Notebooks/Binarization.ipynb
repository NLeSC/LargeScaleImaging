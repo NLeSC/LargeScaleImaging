{
 "cells": [
  {
   "cell_type": "code",
   "execution_count": 1,
   "metadata": {
    "collapsed": false
   },
   "outputs": [],
   "source": [
    "import numpy as np\n",
    "import cv2\n",
    "import sys\n",
    "import os\n",
    "sys.path.insert(0, os.path.abspath('..'))\n",
    "\n",
    "import salientregions as sr"
   ]
  },
  {
   "cell_type": "code",
   "execution_count": 2,
   "metadata": {
    "collapsed": false
   },
   "outputs": [],
   "source": [
    "#Load the image\n",
    "path_to_image = '/home/dafne/SalientRegions/LargeScaleImaging/Data/OxFrei/01_graffiti/JPG/_original.jpg'\n",
    "#path_to_image = '../../../Data/OxFrei/09_small_palace/_original.jpg'\n",
    "original = cv2.imread(path_to_image)\n",
    "sr.show_image(original)\n",
    "path_to_image = '/home/dafne/SalientRegions/LargeScaleImaging/Data/OxFrei/01_graffiti/JPG/viewpoint1.jpg'\n",
    "viewpoint = cv2.imread(path_to_image)\n",
    "sr.show_image(viewpoint)"
   ]
  },
  {
   "cell_type": "code",
   "execution_count": 3,
   "metadata": {
    "collapsed": false
   },
   "outputs": [],
   "source": [
    "#Convert to grey scale\n",
    "grayscale = cv2.cvtColor(original, cv2.COLOR_BGR2GRAY)\n",
    "grayscale1 = cv2.cvtColor(viewpoint, cv2.COLOR_BGR2GRAY)\n",
    "sr.show_image(grayscale)\n",
    "sr.show_image(grayscale1)"
   ]
  },
  {
   "cell_type": "code",
   "execution_count": 4,
   "metadata": {
    "collapsed": false
   },
   "outputs": [],
   "source": [
    "#Binarize according to threshold\n",
    "ret, binarized = cv2.threshold(grayscale, 0, 255, cv2.THRESH_BINARY+cv2.THRESH_OTSU)\n",
    "ret, binarized1 = cv2.threshold(grayscale1, 0, 255, cv2.THRESH_BINARY+cv2.THRESH_OTSU)\n",
    "sr.show_image(binarized)\n",
    "sr.show_image(binarized1)"
   ]
  },
  {
   "cell_type": "code",
   "execution_count": 7,
   "metadata": {
    "collapsed": false
   },
   "outputs": [
    {
     "ename": "IndentationError",
     "evalue": "expected an indented block (<ipython-input-7-d412ccfa5c5a>, line 5)",
     "output_type": "error",
     "traceback": [
      "\u001b[1;36m  File \u001b[1;32m\"<ipython-input-7-d412ccfa5c5a>\"\u001b[1;36m, line \u001b[1;32m5\u001b[0m\n\u001b[1;33m    \u001b[0m\n\u001b[1;37m    ^\u001b[0m\n\u001b[1;31mIndentationError\u001b[0m\u001b[1;31m:\u001b[0m expected an indented block\n"
     ]
    }
   ],
   "source": [
    "lam_large = 0.4\n",
    "lam_verylarge = 0.7\n",
    "for t in xrange(256) :\n",
    "    #bint = sr.binarize(grayscale, threshold=t)\n",
    "    "
   ]
  },
  {
   "cell_type": "code",
   "execution_count": 40,
   "metadata": {
    "collapsed": true
   },
   "outputs": [],
   "source": [
    "holes, islands, indents, prots = sr.get_salient_regions(binarized, visualize=False)\n",
    "holes1, islands1, indents1, prots1 = sr.get_salient_regions(binarized1, visualize=False)"
   ]
  },
  {
   "cell_type": "code",
   "execution_count": 6,
   "metadata": {
    "collapsed": true
   },
   "outputs": [],
   "source": [
    "contour_image = holes.copy()\n",
    "sr.show_image(contour_image)"
   ]
  },
  {
   "cell_type": "code",
   "execution_count": 7,
   "metadata": {
    "collapsed": false
   },
   "outputs": [],
   "source": [
    "#img_contour, contours, hierarchy \n",
    "contour_image = holes.copy()\n",
    "img, contours, hierarchy = cv2.findContours(contour_image,cv2.RETR_LIST ,cv2.CHAIN_APPROX_SIMPLE)\n",
    "contour_image =  np.zeros(contour_image.shape, dtype='uint8')\n",
    "contour_image = cv2.drawContours(contour_image, [contours[2]], -1, (128, 255, 0), 1)\n",
    "sr.show_image(contour_image)"
   ]
  },
  {
   "cell_type": "code",
   "execution_count": null,
   "metadata": {
    "collapsed": false
   },
   "outputs": [],
   "source": [
    "#Find the connected components (similar to bwlabel)\n",
    "retval, labels = cv2.connectedComponents(binarized[:,:,0]) \n",
    "#An ugly transformation to see the CC's in different colors\n",
    "dim = np.ceil(np.power(retval, 1.0/3))\n",
    "step = int(np.floor(255/dim))\n",
    "print dim, step\n",
    "rvalues = np.arange(int(np.floor(step/2)),256, step)\n",
    "colormapping = dict([(i,[rvalues[np.mod(i, dim)], \n",
    "                         rvalues[np.floor(np.mod(i, dim*dim)/dim)], \n",
    "                         rvalues[np.floor(i/dim)]]) for i in xrange(1, retval)])\n",
    "colormapping[0] = [0,0,0]\n",
    "colored_labels = np.array([[colormapping[i] for i in x]  for x in labels], dtype='uint8')\n",
    "show_image(colored_labels)"
   ]
  },
  {
   "cell_type": "code",
   "execution_count": 7,
   "metadata": {
    "collapsed": false
   },
   "outputs": [
    {
     "name": "stdout",
     "output_type": "stream",
     "text": [
      "\n"
     ]
    }
   ],
   "source": [
    "sr.visualize_elements(binarized, holes, islands, indents, prots)\n",
    "print ''"
   ]
  },
  {
   "cell_type": "code",
   "execution_count": 46,
   "metadata": {
    "collapsed": true
   },
   "outputs": [],
   "source": [
    "#Get keypoints for the salient regions, from cc\n",
    "def get_keypoints(mask):\n",
    "    nccs, labels, stats, centroids = cv2.connectedComponentsWithStats(mask)\n",
    "    kps = []\n",
    "    for i in xrange(1, nccs):\n",
    "        x,y = centroids[i]\n",
    "        area = stats[i][cv2.CC_STAT_AREA]\n",
    "        width = stats[i][cv2.CC_STAT_WIDTH]\n",
    "        height = stats[i][cv2.CC_STAT_HEIGHT]\n",
    "        diam = max(width, height) #2 * np.sqrt(area/(np.pi))\n",
    "        kps.append(cv2.KeyPoint(x, y, _size=diam))\n",
    "    return kps"
   ]
  },
  {
   "cell_type": "code",
   "execution_count": 47,
   "metadata": {
    "collapsed": false
   },
   "outputs": [],
   "source": [
    "#Get Keypoints for our salient regions\n",
    "sr_kps = get_keypoints(holes) + get_keypoints(islands) + get_keypoints(indents) + get_keypoints(prots)\n",
    "sr_kps1 = get_keypoints(holes1) + get_keypoints(islands1) + get_keypoints(indents1) + get_keypoints(prots1)"
   ]
  },
  {
   "cell_type": "code",
   "execution_count": 17,
   "metadata": {
    "collapsed": false
   },
   "outputs": [],
   "source": [
    "#Try out MSR\n",
    "vis =  cv2.cvtColor(grayscale.copy(), cv2.COLOR_GRAY2BGR)\n",
    "mser = cv2.MSER_create()\n",
    "regions = mser.detectRegions(grayscale, None)\n",
    "region_kps = mser.detect(grayscale)\n",
    "region_kps1 = mser.detect(grayscale1)\n",
    "hulls = [cv2.convexHull(p.reshape(-1, 1, 2)) for p in regions]\n",
    "cv2.polylines(vis, hulls, 1, (0, 255, 0), 1)\n",
    "sr.show_image(vis, 'MSER regions')"
   ]
  },
  {
   "cell_type": "code",
   "execution_count": 79,
   "metadata": {
    "collapsed": false
   },
   "outputs": [
    {
     "data": {
      "text/plain": [
       "2099"
      ]
     },
     "execution_count": 79,
     "metadata": {},
     "output_type": "execute_result"
    }
   ],
   "source": [
    "sr.show_image(vis, 'MSER regions')\n",
    "len(region_kps1)"
   ]
  },
  {
   "cell_type": "code",
   "execution_count": 49,
   "metadata": {
    "collapsed": false
   },
   "outputs": [],
   "source": [
    "orb = cv2.ORB_create()\n",
    "orb_kps, orb_des = orb.compute(grayscale, sr_kps)\n",
    "orb_kps1, orb_des1 = orb.compute(grayscale1, sr_kps1)"
   ]
  },
  {
   "cell_type": "code",
   "execution_count": 50,
   "metadata": {
    "collapsed": false
   },
   "outputs": [],
   "source": [
    "#Matching!\n",
    "matcher = cv2.BFMatcher(cv2.NORM_HAMMING, crossCheck=True)\n",
    "matches = matcher.match(orb_des, orb_des1)\n",
    "matches = sorted(matches, key = lambda x:x.distance)\n",
    "img3 = cv2.drawMatches(grayscale,orb_kps,grayscale1,orb_kps1,matches[:10], None, flags=2, )"
   ]
  },
  {
   "cell_type": "code",
   "execution_count": 51,
   "metadata": {
    "collapsed": false
   },
   "outputs": [],
   "source": [
    "sr.show_image(img3, 'matches', 100000)"
   ]
  },
  {
   "cell_type": "code",
   "execution_count": 48,
   "metadata": {
    "collapsed": false
   },
   "outputs": [],
   "source": [
    "im_with_keypoints = cv2.drawKeypoints(grayscale, sr_kps, np.array([]), (0,0,255), cv2.DRAW_MATCHES_FLAGS_DRAW_RICH_KEYPOINTS)\n",
    "sr.show_image(im_with_keypoints, 'keypoints', 100000)"
   ]
  },
  {
   "cell_type": "code",
   "execution_count": 45,
   "metadata": {
    "collapsed": true
   },
   "outputs": [],
   "source": [
    "?cv2.drawMatches"
   ]
  },
  {
   "cell_type": "code",
   "execution_count": null,
   "metadata": {
    "collapsed": true
   },
   "outputs": [],
   "source": []
  }
 ],
 "metadata": {
  "kernelspec": {
   "display_name": "Python 2",
   "language": "python",
   "name": "python2"
  },
  "language_info": {
   "codemirror_mode": {
    "name": "ipython",
    "version": 2
   },
   "file_extension": ".py",
   "mimetype": "text/x-python",
   "name": "python",
   "nbconvert_exporter": "python",
   "pygments_lexer": "ipython2",
   "version": "2.7.11"
  }
 },
 "nbformat": 4,
 "nbformat_minor": 0
}
