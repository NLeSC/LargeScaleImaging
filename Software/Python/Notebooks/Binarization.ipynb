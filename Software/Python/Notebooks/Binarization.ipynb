{
 "cells": [
  {
   "cell_type": "code",
   "execution_count": 1,
   "metadata": {
    "collapsed": false
   },
   "outputs": [],
   "source": [
    "import numpy as np\n",
    "import cv2\n",
    "import sys\n",
    "import os\n",
    "sys.path.insert(0, os.path.abspath('..'))\n",
    "\n",
    "import salientregions as sr"
   ]
  },
  {
   "cell_type": "code",
   "execution_count": 2,
   "metadata": {
    "collapsed": false
   },
   "outputs": [],
   "source": [
    "#Load the image\n",
    "path_to_image = '/home/dafne/SalientRegions/LargeScaleImaging/Data/OxFrei/01_graffiti/JPG/_original.jpg'\n",
    "#path_to_image = '../../../Data/OxFrei/09_small_palace/_original.jpg'\n",
    "original = cv2.imread(path_to_image)\n",
    "sr.show_image(original)\n",
    "path_to_image = '/home/dafne/SalientRegions/LargeScaleImaging/Data/OxFrei/01_graffiti/JPG/viewpoint1.jpg'\n",
    "viewpoint = cv2.imread(path_to_image)\n",
    "#sr.show_image(viewpoint)"
   ]
  },
  {
   "cell_type": "code",
   "execution_count": 3,
   "metadata": {
    "collapsed": false
   },
   "outputs": [],
   "source": [
    "#Convert to grey scale\n",
    "grayscale = cv2.cvtColor(original, cv2.COLOR_BGR2GRAY)\n",
    "grayscale1 = cv2.cvtColor(viewpoint, cv2.COLOR_BGR2GRAY)\n",
    "sr.show_image(grayscale)\n",
    "#sr.show_image(grayscale1)"
   ]
  },
  {
   "cell_type": "code",
   "execution_count": 4,
   "metadata": {
    "collapsed": false
   },
   "outputs": [],
   "source": [
    "#Binarize with OTSU\n",
    "ret, binarized = cv2.threshold(grayscale, 0, 255, cv2.THRESH_BINARY+cv2.THRESH_OTSU)\n",
    "ret, binarized1 = cv2.threshold(grayscale1, 0, 255, cv2.THRESH_BINARY+cv2.THRESH_OTSU)\n",
    "sr.show_image(binarized)\n",
    "sr.show_image(binarized1)"
   ]
  },
  {
   "cell_type": "code",
   "execution_count": null,
   "metadata": {
    "collapsed": false
   },
   "outputs": [],
   "source": [
    "#Binarize according to threshold\n",
    "thres = 128\n",
    "binarized = sr.binarize(grayscale, threshold=thres)"
   ]
  },
  {
   "cell_type": "code",
   "execution_count": 7,
   "metadata": {
    "collapsed": false
   },
   "outputs": [
    {
     "name": "stdout",
     "output_type": "stream",
     "text": [
      "lam is: 27\n"
     ]
    }
   ],
   "source": [
    "img = grayscale\n",
    "SE_size_factor = 0.02\n",
    "lam_factor = 3\n",
    "area_factor_large = 0.001\n",
    "area_factor_verylarge = 0.1\n",
    "SE, lam = sr.get_SE(img, SE_size_factor=SE_size_factor, lam_factor=lam_factor)\n",
    "connectivity = 4\n",
    "weights=(0.33,0.33,0.33)\n",
    "\n",
    "print 'lam is: %i' %lam"
   ]
  },
  {
   "cell_type": "code",
   "execution_count": 9,
   "metadata": {
    "collapsed": false
   },
   "outputs": [
    {
     "name": "stdout",
     "output_type": "stream",
     "text": [
      "lambda is: 27\n",
      "Area large is: 667\n",
      "Area very large is: 66700\n",
      "93\n"
     ]
    }
   ],
   "source": [
    "t, binarized_dd = sr.data_driven_binarization(img, area_factor_large=area_factor_large, area_factor_verylarge=area_factor_verylarge, \n",
    "                                           lam=lam, weights=weights, connectivity=connectivity, visualize=True)\n",
    "print t"
   ]
  },
  {
   "cell_type": "code",
   "execution_count": null,
   "metadata": {
    "collapsed": true
   },
   "outputs": [],
   "source": [
    "holes, islands, indents, prots = sr.get_salient_regions(binarized, visualize=False)\n",
    "holes1, islands1, indents1, prots1 = sr.get_salient_regions(binarized1, visualize=False)"
   ]
  },
  {
   "cell_type": "code",
   "execution_count": null,
   "metadata": {
    "collapsed": false
   },
   "outputs": [],
   "source": [
    "sr.visualize_elements(binarized, holes, islands, indents, prots)\n",
    "print ''"
   ]
  },
  {
   "cell_type": "code",
   "execution_count": null,
   "metadata": {
    "collapsed": false
   },
   "outputs": [],
   "source": [
    "bint = sr.binarize(img, threshold=128, visualize=False)\n",
    "ccs, labels, stats, centroids = cv2.connectedComponentsWithStats(bint, connectivity=connectivity)\n",
    "areas = stats[:, cv2.CC_STAT_AREA]\n",
    "sum(areas > area_large)"
   ]
  },
  {
   "cell_type": "code",
   "execution_count": null,
   "metadata": {
    "collapsed": true
   },
   "outputs": [],
   "source": [
    "? sr.remove_small_elements"
   ]
  },
  {
   "cell_type": "code",
   "execution_count": null,
   "metadata": {
    "collapsed": false
   },
   "outputs": [],
   "source": [
    "np.zeros(5)"
   ]
  },
  {
   "cell_type": "code",
   "execution_count": null,
   "metadata": {
    "collapsed": true
   },
   "outputs": [],
   "source": []
  }
 ],
 "metadata": {
  "kernelspec": {
   "display_name": "Python 2",
   "language": "python",
   "name": "python2"
  },
  "language_info": {
   "codemirror_mode": {
    "name": "ipython",
    "version": 2
   },
   "file_extension": ".py",
   "mimetype": "text/x-python",
   "name": "python",
   "nbconvert_exporter": "python",
   "pygments_lexer": "ipython2",
   "version": "2.7.11"
  }
 },
 "nbformat": 4,
 "nbformat_minor": 0
}
