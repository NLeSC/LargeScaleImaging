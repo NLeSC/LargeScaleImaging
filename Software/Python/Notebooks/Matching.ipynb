{
 "cells": [
  {
   "cell_type": "code",
   "execution_count": 1,
   "metadata": {
    "collapsed": false
   },
   "outputs": [],
   "source": [
    "import numpy as np\n",
    "import cv2\n",
    "import sys\n",
    "import os\n",
    "sys.path.insert(0, os.path.abspath('..'))\n",
    "\n",
    "import salientregions as sr"
   ]
  },
  {
   "cell_type": "code",
   "execution_count": 2,
   "metadata": {
    "collapsed": false
   },
   "outputs": [],
   "source": [
    "#Load the image\n",
    "path_to_image = '/home/dafne/SalientRegions/LargeScaleImaging/Data/OxFrei/01_graffiti/JPG/_original.jpg'\n",
    "#path_to_image = '../../../Data/OxFrei/09_small_palace/_original.jpg'\n",
    "original = cv2.imread(path_to_image)\n",
    "sr.show_image(original)\n",
    "path_to_image = '/home/dafne/SalientRegions/LargeScaleImaging/Data/OxFrei/01_graffiti/JPG/viewpoint1.jpg'\n",
    "viewpoint = cv2.imread(path_to_image)\n",
    "sr.show_image(viewpoint)"
   ]
  },
  {
   "cell_type": "code",
   "execution_count": 3,
   "metadata": {
    "collapsed": false
   },
   "outputs": [],
   "source": [
    "#Convert to grey scale\n",
    "grayscale = cv2.cvtColor(original, cv2.COLOR_BGR2GRAY)\n",
    "grayscale1 = cv2.cvtColor(viewpoint, cv2.COLOR_BGR2GRAY)\n",
    "sr.show_image(grayscale)\n",
    "sr.show_image(grayscale1)"
   ]
  },
  {
   "cell_type": "code",
   "execution_count": 4,
   "metadata": {
    "collapsed": false
   },
   "outputs": [],
   "source": [
    "#Binarize according to threshold\n",
    "ret, binarized = cv2.threshold(grayscale, 0, 255, cv2.THRESH_BINARY+cv2.THRESH_OTSU)\n",
    "ret, binarized1 = cv2.threshold(grayscale1, 0, 255, cv2.THRESH_BINARY+cv2.THRESH_OTSU)\n",
    "sr.show_image(binarized)\n",
    "sr.show_image(binarized1)"
   ]
  },
  {
   "cell_type": "code",
   "execution_count": 5,
   "metadata": {
    "collapsed": false
   },
   "outputs": [],
   "source": [
    "regions = sr.get_salient_regions(binarized, vizualize=False)\n",
    "holes, islands, indents, prots = regions['holes'], regions['islands'], regions['indentations'], regions['protrusions']\n",
    "regions1 = sr.get_salient_regions(binarized1, vizualize=False)\n",
    "holes1, islands1, indents1, prots1 = regions1['holes'], regions1['islands'], regions1['indentations'], regions1['protrusions']"
   ]
  },
  {
   "cell_type": "code",
   "execution_count": 6,
   "metadata": {
    "collapsed": false
   },
   "outputs": [
    {
     "name": "stdout",
     "output_type": "stream",
     "text": [
      "\n"
     ]
    }
   ],
   "source": [
    "sr_vizualized = sr.vizualize_elements(grayscale, holes, islands, indents, prots)\n",
    "sr_vizualized_holes = sr.vizualize_elements(grayscale1, holes1, islands1, indents1, prots1)\n",
    "print ''"
   ]
  },
  {
   "cell_type": "code",
   "execution_count": null,
   "metadata": {
    "collapsed": false
   },
   "outputs": [],
   "source": [
    "#Get keypoints for the salient regions, from cc\n",
    "def get_keypoints(mask):\n",
    "    img, contours, hierarchy = cv2.findContours(mask,cv2.RETR_LIST ,cv2.CHAIN_APPROX_SIMPLE)\n",
    "    kps = []\n",
    "    for cont in contours:\n",
    "        (x,y), r = cv2.minEnclosingCircle(cont)\n",
    "        kps.append(cv2.KeyPoint(x, y, _size=1.5*2*r))\n",
    "    return kps"
   ]
  },
  {
   "cell_type": "code",
   "execution_count": null,
   "metadata": {
    "collapsed": false
   },
   "outputs": [],
   "source": [
    "#Get Keypoints for our salient regions\n",
    "sr_kps = get_keypoints(holes) #+ get_keypoints(islands) + get_keypoints(indents) + get_keypoints(prots)\n",
    "sr_kps1 = get_keypoints(holes1)# + get_keypoints(islands1) + get_keypoints(indents1) + get_keypoints(prots1)"
   ]
  },
  {
   "cell_type": "code",
   "execution_count": null,
   "metadata": {
    "collapsed": false
   },
   "outputs": [],
   "source": [
    "im_with_keypoints = cv2.drawKeypoints(sr_vizualized, sr_kps, np.array([]), (0,0,255), cv2.DRAW_MATCHES_FLAGS_DRAW_RICH_KEYPOINTS)\n",
    "sr.show_image(im_with_keypoints, 'keypoints', 100000)"
   ]
  },
  {
   "cell_type": "code",
   "execution_count": null,
   "metadata": {
    "collapsed": false
   },
   "outputs": [],
   "source": [
    "#Try out MSER\n",
    "vis =  cv2.cvtColor(grayscale.copy(), cv2.COLOR_GRAY2BGR)\n",
    "mser = cv2.MSER_create()\n",
    "regions = mser.detectRegions(grayscale, None)\n",
    "region_kps = mser.detect(grayscale)\n",
    "region_kps1 = mser.detect(grayscale1)\n",
    "hulls = [cv2.convexHull(p.reshape(-1, 1, 2)) for p in regions]\n",
    "cv2.polylines(vis, hulls, 1, (0, 255, 0), 1)\n",
    "sr.show_image(vis, 'MSER regions')"
   ]
  },
  {
   "cell_type": "code",
   "execution_count": null,
   "metadata": {
    "collapsed": false
   },
   "outputs": [],
   "source": [
    "kp_mser = region_kps[0]\n",
    "region_mser = regions[0]\n",
    "(x,y), r = cv2.minEnclosingCircle(region_mser)\n",
    "print kp_mser.size\n",
    "print kp_mser.pt\n",
    "print x, y, r"
   ]
  },
  {
   "cell_type": "code",
   "execution_count": null,
   "metadata": {
    "collapsed": false
   },
   "outputs": [],
   "source": [
    "orb = cv2.ORB_create()\n",
    "orb_kps, orb_des = orb.compute(original, sr_kps)\n",
    "orb_kps1, orb_des1 = orb.compute(viewpoint, sr_kps1)"
   ]
  },
  {
   "cell_type": "code",
   "execution_count": null,
   "metadata": {
    "collapsed": false
   },
   "outputs": [],
   "source": [
    "#Matching!\n",
    "matcher = cv2.BFMatcher(cv2.NORM_HAMMING, crossCheck=True)\n",
    "matches = matcher.match(orb_des, orb_des1)\n",
    "matches = sorted(matches, key = lambda x:x.distance)\n",
    "img3 = cv2.drawMatches(grayscale,orb_kps,grayscale1,orb_kps1,matches[:10], \n",
    "                       None, singlePointColor=[128,128,128],flags=cv2.DRAW_MATCHES_FLAGS_NOT_DRAW_SINGLE_POINTS)\n",
    "\n",
    "sr.show_image(img3, 'matches', 100000)"
   ]
  },
  {
   "cell_type": "code",
   "execution_count": null,
   "metadata": {
    "collapsed": false
   },
   "outputs": [],
   "source": [
    "im_with_keypoints = cv2.drawKeypoints(grayscale, sr_kps, np.array([]), (0,0,255), \n",
    "                                      cv2.DRAW_MATCHES_FLAGS_DRAW_RICH_KEYPOINTS)\n",
    "sr.show_image(im_with_keypoints, 'keypoints', 100000)"
   ]
  },
  {
   "cell_type": "code",
   "execution_count": null,
   "metadata": {
    "collapsed": true
   },
   "outputs": [],
   "source": []
  },
  {
   "cell_type": "code",
   "execution_count": null,
   "metadata": {
    "collapsed": true
   },
   "outputs": [],
   "source": []
  }
 ],
 "metadata": {
  "kernelspec": {
   "display_name": "Python 2",
   "language": "python",
   "name": "python2"
  },
  "language_info": {
   "codemirror_mode": {
    "name": "ipython",
    "version": 2
   },
   "file_extension": ".py",
   "mimetype": "text/x-python",
   "name": "python",
   "nbconvert_exporter": "python",
   "pygments_lexer": "ipython2",
   "version": "2.7.11"
  }
 },
 "nbformat": 4,
 "nbformat_minor": 0
}
