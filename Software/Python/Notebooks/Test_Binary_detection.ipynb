{
 "cells": [
  {
   "cell_type": "code",
   "execution_count": 3,
   "metadata": {
    "collapsed": false
   },
   "outputs": [],
   "source": [
    "import numpy as np\n",
    "import cv2\n",
    "import sys\n",
    "import os\n",
    "sys.path.insert(0, os.path.abspath('..'))\n",
    "\n",
    "import salientregions as sr\n",
    "import scipy.io as sio"
   ]
  },
  {
   "cell_type": "code",
   "execution_count": 5,
   "metadata": {
    "collapsed": false
   },
   "outputs": [],
   "source": [
    "testdata_path = '../../../TestData/Binary/'\n",
    "image = sr.binarize(cv2.imread(os.path.join(testdata_path, 'Binary_all_types_noise.png')), threshold=128, visualize=False)\n",
    "holes_true, islands_true, indents_true,  prots_true = \\\n",
    "    sr.read_matfile(os.path.join(testdata_path, 'Binary_all_types_noise_binregions.mat'), visualize=False)\n",
    "#SE_mat = sio.loadmat(os.path.join(testdata_path,\"Binary_all_types_noise_SE.mat\"))['SE_n']\n",
    "SE_mat = sio.loadmat(os.path.join(testdata_path,\"SE_neighb_all_other.mat\"))['SE_n']\n",
    "SEhi_mat = sio.loadmat(os.path.join(testdata_path,\"SEhi_neighb_all_other.mat\"))['SEhi_n']\n",
    "lam_mat = 50\n",
    "area_factor = 0.05\n",
    "SE_size_factor = 0.075"
   ]
  },
  {
   "cell_type": "code",
   "execution_count": 6,
   "metadata": {
    "collapsed": false
   },
   "outputs": [
    {
     "name": "stdout",
     "output_type": "stream",
     "text": [
      "Lambda is: 50\n"
     ]
    }
   ],
   "source": [
    "SE, lam = sr.get_SE(image, SE_size_factor=SE_size_factor)\n",
    "print 'Lambda is: %i' %lam"
   ]
  },
  {
   "cell_type": "code",
   "execution_count": 7,
   "metadata": {
    "collapsed": false
   },
   "outputs": [],
   "source": [
    "_, holes_my = sr.get_holes(image, filled=None, lam=lam, connectivity=4, visualize=False)\n",
    "_, islands_my = sr.get_islands(image,  invfilled=None, lam=lam, connectivity=4, visualize=False)"
   ]
  },
  {
   "cell_type": "code",
   "execution_count": 8,
   "metadata": {
    "collapsed": false
   },
   "outputs": [
    {
     "name": "stdout",
     "output_type": "stream",
     "text": [
      "holes are correct: True\n",
      "islands are correct: True\n"
     ]
    }
   ],
   "source": [
    "print 'holes are correct:', sr.image_diff(holes_true, holes_my)\n",
    "print 'islands are correct:', sr.image_diff(islands_true, islands_my)"
   ]
  },
  {
   "cell_type": "code",
   "execution_count": 9,
   "metadata": {
    "collapsed": false
   },
   "outputs": [],
   "source": [
    "_, indents_my = sr.get_indentations(image, SE=SE_mat, SEhi=SEhi_mat, lam=lam, visualize=False)\n",
    "_, prots_my = sr.get_protrusions(image, SE=SE_mat, SEhi=SEhi_mat, lam=lam, visualize=False)"
   ]
  },
  {
   "cell_type": "code",
   "execution_count": 10,
   "metadata": {
    "collapsed": false
   },
   "outputs": [
    {
     "name": "stdout",
     "output_type": "stream",
     "text": [
      "indentations are correct: True\n",
      "protrusions are correct: True\n"
     ]
    }
   ],
   "source": [
    "print 'indentations are correct:', sr.image_diff(indents_true, indents_my)\n",
    "print 'protrusions are correct:', sr.image_diff(prots_true, prots_my)"
   ]
  },
  {
   "cell_type": "code",
   "execution_count": 11,
   "metadata": {
    "collapsed": false
   },
   "outputs": [
    {
     "data": {
      "text/plain": [
       "True"
      ]
     },
     "execution_count": 11,
     "metadata": {},
     "output_type": "execute_result"
    }
   ],
   "source": [
    "elements_visualized = sr.visualize_elements(image, holes=holes_my, islands=islands_my, \n",
    "                                            protrusions=prots_my, indentations=indents_my)\n",
    "trueelements_visualized = sr.visualize_elements(image, \n",
    "                                             holes=holes_true, islands=islands_true, \n",
    "                                             protrusions=prots_true, indentations=indents_true)\n",
    "sr.image_diff(elements_visualized, trueelements_visualized)"
   ]
  },
  {
   "cell_type": "code",
   "execution_count": null,
   "metadata": {
    "collapsed": true
   },
   "outputs": [],
   "source": []
  }
 ],
 "metadata": {
  "kernelspec": {
   "display_name": "Python 2",
   "language": "python",
   "name": "python2"
  },
  "language_info": {
   "codemirror_mode": {
    "name": "ipython",
    "version": 2
   },
   "file_extension": ".py",
   "mimetype": "text/x-python",
   "name": "python",
   "nbconvert_exporter": "python",
   "pygments_lexer": "ipython2",
   "version": "2.7.11"
  }
 },
 "nbformat": 4,
 "nbformat_minor": 0
}
