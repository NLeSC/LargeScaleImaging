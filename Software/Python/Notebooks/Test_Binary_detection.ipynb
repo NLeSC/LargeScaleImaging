{
 "cells": [
  {
   "cell_type": "code",
   "execution_count": null,
   "metadata": {
    "collapsed": false
   },
   "outputs": [],
   "source": [
    "import numpy as np\n",
    "import cv2\n",
    "import sys\n",
    "import os\n",
    "sys.path.insert(0, os.path.abspath('..'))\n",
    "\n",
    "import salientregions as sr\n",
    "import scipy.io as sio"
   ]
  },
  {
   "cell_type": "code",
   "execution_count": null,
   "metadata": {
    "collapsed": false
   },
   "outputs": [],
   "source": [
    "testdata_path = '../../../TestData/Binary/'\n",
    "image = sr.binarize(cv2.imread(os.path.join(testdata_path, 'Binary_all_types_noise.png')), visualize=False)\n",
    "holes_true, islands_true, indents_true,  prots_true = \\\n",
    "    sr.read_matfile(os.path.join(testdata_path, 'Binary_all_types_noise_binregions.mat'), visualize=False)\n",
    "#SE_mat = sio.loadmat(os.path.join(testdata_path,\"Binary_all_types_noise_SE.mat\"))['SE_n']\n",
    "SE_mat = sio.loadmat(os.path.join(testdata_path,\"SE_neighb_all_other.mat\"))['SE_n']\n",
    "SEhi_mat = sio.loadmat(os.path.join(testdata_path,\"SEhi_neighb_all_other.mat\"))['SEhi_n']\n",
    "lam_mat = 50\n",
    "area_factor = 0.05\n",
    "SE_size_factor = 0.075"
   ]
  },
  {
   "cell_type": "code",
   "execution_count": null,
   "metadata": {
    "collapsed": false
   },
   "outputs": [],
   "source": [
    "SE, lam = sr.get_SE(image, SE_size_factor=SE_size_factor)\n",
    "print 'Lambda is: %i' %lam"
   ]
  },
  {
   "cell_type": "code",
   "execution_count": null,
   "metadata": {
    "collapsed": false
   },
   "outputs": [],
   "source": [
    "_, holes_my = sr.get_holes(image, filled=None, lam=lam, connectivity=4, visualize=False)\n",
    "_, islands_my = sr.get_islands(image,  invfilled=None, lam=lam, connectivity=4, visualize=False)"
   ]
  },
  {
   "cell_type": "code",
   "execution_count": null,
   "metadata": {
    "collapsed": false
   },
   "outputs": [],
   "source": [
    "print 'holes are correct:', sr.image_diff(holes_true, holes_my)\n",
    "print 'islands are correct:', sr.image_diff(islands_true, islands_my)"
   ]
  },
  {
   "cell_type": "code",
   "execution_count": null,
   "metadata": {
    "collapsed": false
   },
   "outputs": [],
   "source": [
    "_, indents_my = sr.get_indentations(image, SE=SE_mat, SEhi=SEhi_mat, lam=lam, visualize=False)\n",
    "_, prots_my = sr.get_protrusions(image, SE=SE_mat, SEhi=SEhi_mat, lam=lam, visualize=False)"
   ]
  },
  {
   "cell_type": "code",
   "execution_count": null,
   "metadata": {
    "collapsed": false
   },
   "outputs": [],
   "source": [
    "print 'indentations are correct:', sr.image_diff(indents_true, indents_my)\n",
    "print 'protrusions are correct:', sr.image_diff(prots_true, prots_my)"
   ]
  },
  {
   "cell_type": "code",
   "execution_count": 2,
   "metadata": {
    "collapsed": false
   },
   "outputs": [
    {
     "ename": "NameError",
     "evalue": "name 'sr' is not defined",
     "output_type": "error",
     "traceback": [
      "\u001b[1;31m---------------------------------------------------------------------------\u001b[0m",
      "\u001b[1;31mNameError\u001b[0m                                 Traceback (most recent call last)",
      "\u001b[1;32m<ipython-input-2-6806f06c618c>\u001b[0m in \u001b[0;36m<module>\u001b[1;34m()\u001b[0m\n\u001b[1;32m----> 1\u001b[1;33m elements_vizualized = sr.vizualize_elements(image, holes=holes_my, islands=islands_my, \n\u001b[0m\u001b[0;32m      2\u001b[0m                                             protrusions=prots_my, indentations=indents_my)\n\u001b[0;32m      3\u001b[0m trueelements_vizualized = sr.vizualize_elements(image, \n\u001b[0;32m      4\u001b[0m                                              \u001b[0mholes\u001b[0m\u001b[1;33m=\u001b[0m\u001b[0mholes_true\u001b[0m\u001b[1;33m,\u001b[0m \u001b[0mislands\u001b[0m\u001b[1;33m=\u001b[0m\u001b[0mislands_true\u001b[0m\u001b[1;33m,\u001b[0m\u001b[1;33m\u001b[0m\u001b[0m\n\u001b[0;32m      5\u001b[0m                                              protrusions=prots_true, indentations=indents_true)\n",
      "\u001b[1;31mNameError\u001b[0m: name 'sr' is not defined"
     ]
    }
   ],
   "source": [
    "elements_visualized = sr.visualize_elements(image, holes=holes_my, islands=islands_my, \n",
    "                                            protrusions=prots_my, indentations=indents_my)\n",
    "trueelements_visualized = sr.visualize_elements(image, \n",
    "                                             holes=holes_true, islands=islands_true, \n",
    "                                             protrusions=prots_true, indentations=indents_true)\n",
    "sr.image_diff(elements_visualized, trueelements_visualized)"
   ]
  },
  {
   "cell_type": "code",
   "execution_count": null,
   "metadata": {
    "collapsed": true
   },
   "outputs": [],
   "source": []
  }
 ],
 "metadata": {
  "kernelspec": {
   "display_name": "Python 2",
   "language": "python",
   "name": "python2"
  },
  "language_info": {
   "codemirror_mode": {
    "name": "ipython",
    "version": 2
   },
   "file_extension": ".py",
   "mimetype": "text/x-python",
   "name": "python",
   "nbconvert_exporter": "python",
   "pygments_lexer": "ipython2",
   "version": "2.7.11"
  }
 },
 "nbformat": 4,
 "nbformat_minor": 0
}
