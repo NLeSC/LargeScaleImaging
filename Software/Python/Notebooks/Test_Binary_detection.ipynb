{
 "cells": [
  {
   "cell_type": "code",
   "execution_count": 1,
   "metadata": {
    "collapsed": false
   },
   "outputs": [],
   "source": [
    "import numpy as np\n",
    "import cv2\n",
    "import sys\n",
    "import os\n",
    "sys.path.insert(0, os.path.abspath('..'))\n",
    "\n",
    "import salientregions as sr"
   ]
  },
  {
   "cell_type": "code",
   "execution_count": 2,
   "metadata": {
    "collapsed": false
   },
   "outputs": [],
   "source": [
    "allim = sr.binarize(cv2.imread('../../../TestData/Binary/Binary_all_types_noise.png'))\n",
    "holes_true, islands_true, indents_true, prots_true = \\\n",
    "    sr.read_matfile('../../../TestData/Binary/Binary_all_types_noise_binregions.mat')"
   ]
  },
  {
   "cell_type": "code",
   "execution_count": 8,
   "metadata": {
    "collapsed": false
   },
   "outputs": [
    {
     "name": "stdout",
     "output_type": "stream",
     "text": [
      "Lambda is: 108.324400\n"
     ]
    }
   ],
   "source": [
    "SE, lam = sr.get_SE(allim, SE_size_factor=0.15)\n",
    "print 'Lambda is: %f' %lam\n",
    "_, holes_my = sr.get_holes(allim, lam=lam, vizualize=False)\n",
    "_, islands_my = sr.get_islands(allim, lam=lam, vizualize=False)"
   ]
  },
  {
   "cell_type": "code",
   "execution_count": 6,
   "metadata": {
    "collapsed": false
   },
   "outputs": [
    {
     "name": "stdout",
     "output_type": "stream",
     "text": [
      "holes are correct: True\n",
      "islands are correct: True\n"
     ]
    }
   ],
   "source": [
    "print 'holes are correct:', sr.image_diff(holes_true, holes_my)\n",
    "print 'islands are correct:', sr.image_diff(islands_true, islands_my)"
   ]
  },
  {
   "cell_type": "code",
   "execution_count": null,
   "metadata": {
    "collapsed": true
   },
   "outputs": [],
   "source": []
  }
 ],
 "metadata": {
  "kernelspec": {
   "display_name": "Python 2",
   "language": "python",
   "name": "python2"
  },
  "language_info": {
   "codemirror_mode": {
    "name": "ipython",
    "version": 2
   },
   "file_extension": ".py",
   "mimetype": "text/x-python",
   "name": "python",
   "nbconvert_exporter": "python",
   "pygments_lexer": "ipython2",
   "version": "2.7.11"
  }
 },
 "nbformat": 4,
 "nbformat_minor": 0
}
