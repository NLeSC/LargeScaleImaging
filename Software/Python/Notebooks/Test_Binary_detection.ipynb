{
 "cells": [
  {
   "cell_type": "code",
   "execution_count": 3,
   "metadata": {
    "collapsed": false
   },
   "outputs": [],
   "source": [
    "import numpy as np\n",
    "import cv2\n",
    "import sys\n",
    "import os\n",
    "sys.path.insert(0, os.path.abspath('..'))\n",
    "\n",
    "import salientregions as sr\n",
    "import salientregions.salientregiondetector as sdet\n",
    "import scipy.io as sio"
   ]
  },
  {
   "cell_type": "markdown",
   "metadata": {
    "collapsed": true
   },
   "source": [
    "With object oriented"
   ]
  },
  {
   "cell_type": "code",
   "execution_count": 4,
   "metadata": {
    "collapsed": false
   },
   "outputs": [],
   "source": [
    "testdata_path = '../../../TestData/Binary/'\n",
    "image = cv2.imread(os.path.join(testdata_path, 'Binary_all_types_noise.png', cv2.IMREAD_GRAYSCALE)\n",
    "holes_true, islands_true, indents_true,  prots_true = \\\n",
    "    sr.read_matfile(os.path.join(testdata_path, 'Binary_all_types_noise_binregions.mat'), visualize=False)"
   ]
  },
  {
   "cell_type": "code",
   "execution_count": 5,
   "metadata": {
    "collapsed": false
   },
   "outputs": [],
   "source": [
    "SE = sio.loadmat(os.path.join(testdata_path,\"SE_neighb_all_other.mat\"))['SE_n']\n",
    "lam = 50\n",
    "area_factor = 0.05\n",
    "connectivity = 4\n",
    "binarydetector = sr.BinaryDetector(SE=SE, lam=lam, area_factor=area_factor, \n",
    "                                                connectivity=connectivity)"
   ]
  },
  {
   "cell_type": "code",
   "execution_count": 6,
   "metadata": {
    "collapsed": true
   },
   "outputs": [],
   "source": [
    "results = binarydetector.detect(image, find_holes=True, find_islands=True,\n",
    "       find_indentations=True, find_protrusions=True, visualize=True)"
   ]
  },
  {
   "cell_type": "code",
   "execution_count": 7,
   "metadata": {
    "collapsed": false
   },
   "outputs": [],
   "source": [
    "holes_my = results['holes']\n",
    "islands_my = results['islands']\n",
    "indents_my = results['indentations']\n",
    "prots_my = results['protrusions']"
   ]
  },
  {
   "cell_type": "code",
   "execution_count": 8,
   "metadata": {
    "collapsed": false
   },
   "outputs": [
    {
     "data": {
      "text/plain": [
       "True"
      ]
     },
     "execution_count": 8,
     "metadata": {},
     "output_type": "execute_result"
    }
   ],
   "source": [
    "sr.show_image(prots_my)\n",
    "sr.show_image(prots_true)\n",
    "sr.image_diff(prots_my, prots_true)"
   ]
  },
  {
   "cell_type": "code",
   "execution_count": 9,
   "metadata": {
    "collapsed": false
   },
   "outputs": [
    {
     "data": {
      "text/plain": [
       "True"
      ]
     },
     "execution_count": 9,
     "metadata": {},
     "output_type": "execute_result"
    }
   ],
   "source": [
    "elements_visualized = sr.visualize_elements(image, holes=holes_my, islands=islands_my, \n",
    "                                            protrusions=prots_my, indentations=indents_my)\n",
    "trueelements_visualized = sr.visualize_elements(image, \n",
    "                                             holes=holes_true, islands=islands_true, \n",
    "                                             protrusions=prots_true, indentations=indents_true)\n",
    "sr.image_diff(elements_visualized, trueelements_visualized)"
   ]
  },
  {
   "cell_type": "code",
   "execution_count": 10,
   "metadata": {
    "collapsed": false
   },
   "outputs": [
    {
     "name": "stdout",
     "output_type": "stream",
     "text": [
      "holes are correct: True\n",
      "islands are correct: True\n",
      "indentations are correct: True\n",
      "protrusions are correct: True\n"
     ]
    }
   ],
   "source": [
    "print 'holes are correct:', sr.image_diff(holes_true, holes_my)\n",
    "print 'islands are correct:', sr.image_diff(islands_true, islands_my)\n",
    "print 'indentations are correct:', sr.image_diff(indents_true, indents_my)\n",
    "print 'protrusions are correct:', sr.image_diff(prots_true, prots_my)"
   ]
  }
 ],
 "metadata": {
  "kernelspec": {
   "display_name": "Python 2",
   "language": "python",
   "name": "python2"
  },
  "language_info": {
   "codemirror_mode": {
    "name": "ipython",
    "version": 2
   },
   "file_extension": ".py",
   "mimetype": "text/x-python",
   "name": "python",
   "nbconvert_exporter": "python",
   "pygments_lexer": "ipython2",
   "version": "2.7.11"
  }
 },
 "nbformat": 4,
 "nbformat_minor": 0
}
