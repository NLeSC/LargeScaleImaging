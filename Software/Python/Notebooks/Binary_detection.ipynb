{
 "cells": [
  {
   "cell_type": "code",
   "execution_count": 1,
   "metadata": {
    "collapsed": true
   },
   "outputs": [],
   "source": [
    "import numpy as np\n",
    "import cv2\n",
    "import sys\n",
    "import os\n",
    "sys.path.insert(0, os.path.abspath('..'))\n",
    "\n",
    "import salientregions as sr"
   ]
  },
  {
   "cell_type": "code",
   "execution_count": 2,
   "metadata": {
    "collapsed": true
   },
   "outputs": [],
   "source": [
    "def get_protrusions(img, filled, SE, lam):\n",
    "    filled, filled_small = fill_image(img, lam)\n",
    "    fill_big = cv2.bitwise_and(filled, cv2.bitwise_not(cv2.bitwise_and(img, filled_small)))"
   ]
  },
  {
   "cell_type": "code",
   "execution_count": 2,
   "metadata": {
    "collapsed": false
   },
   "outputs": [],
   "source": [
    "#Load the image\n",
    "path_to_image = '../../../TestData/Binary/Binary_holes.png'\n",
    "holesim = sr.binarize(cv2.imread(path_to_image), vizualize=False)\n",
    "path_to_image_islands = '../../../TestData/Binary/Binary_islands.png'\n",
    "islandsim = sr.binarize(cv2.imread(path_to_image_islands), vizualize=False)\n",
    "path_to_image_example = '../../../TestData/Binary/Binary_all_types_noise.png'\n",
    "allim = sr.binarize(cv2.imread(path_to_image_example), vizualize=False)\n",
    "path_to_image_indpred = '../../../TestData/Binary/Binary_indentations_protrusions.png'\n",
    "indpredim = sr.binarize(cv2.imread(path_to_image_indpred), vizualize=False)\n",
    "path_to_image_nested = '../../../TestData/Binary/Binary_nested.png'\n",
    "nestedim = sr.binarize(cv2.imread(path_to_image_nested), vizualize=False)"
   ]
  },
  {
   "cell_type": "code",
   "execution_count": 3,
   "metadata": {
    "collapsed": true
   },
   "outputs": [],
   "source": [
    "img = allim\n",
    "sr.show_image(img)"
   ]
  },
  {
   "cell_type": "code",
   "execution_count": 16,
   "metadata": {
    "collapsed": false
   },
   "outputs": [
    {
     "name": "stdout",
     "output_type": "stream",
     "text": [
      "lambda is: 105.000000\n",
      "SE size is: 43.000000\n"
     ]
    }
   ],
   "source": [
    "#Define parameters and get structuring elements\n",
    "connectivity = 4\n",
    "area_factor = 0.05\n",
    "SE_size_factor = 0.15\n",
    "SE, lam = sr.get_SE(img, SE_size_factor)\n",
    "print 'lambda is: %f' % lam\n",
    "print 'SE size is: %f' % SE.shape[0]"
   ]
  },
  {
   "cell_type": "code",
   "execution_count": 6,
   "metadata": {
    "collapsed": false
   },
   "outputs": [],
   "source": [
    "#get holes\n",
    "filled, holes = sr.get_holes(img, lam, vizualize=False)\n",
    "sr.show_image(holes)"
   ]
  },
  {
   "cell_type": "code",
   "execution_count": 6,
   "metadata": {
    "collapsed": false
   },
   "outputs": [],
   "source": [
    "#get islands\n",
    "filledinv, islands = sr.get_islands(img, lam, vizualize=False)\n",
    "#sr.show_image(islands)"
   ]
  },
  {
   "cell_type": "code",
   "execution_count": 5,
   "metadata": {
    "collapsed": false
   },
   "outputs": [],
   "source": [
    "filled, filled_small = sr.fill_image(img, vizualize=False)\n",
    "SE, lam = sr.get_SE(img, 0.1)\n",
    "min_area = area_factor * img.shape[0] * img.shape[1]\n",
    "prots = np.zeros(img.shape, dtype='uint8')\n",
    "retval, labels, stats, centroids = cv2.connectedComponentsWithStats(filled, connectivity=connectivity)\n",
    "for i in xrange(1, retval) :\n",
    "    area =  stats[i, cv2.CC_STAT_AREA]\n",
    "    ccimage = np.array(255*(labels==i), dtype='uint8')\n",
    "    if area > min_area:\n",
    "        wth = cv2.morphologyEx(ccimage, cv2.MORPH_TOPHAT, SE)\n",
    "        prots += wth\n",
    "        sr.show_image(wth, 'White top hat')\n",
    "sr.show_image(prots, 'Indentations with noise')"
   ]
  },
  {
   "cell_type": "code",
   "execution_count": 6,
   "metadata": {
    "collapsed": false
   },
   "outputs": [],
   "source": [
    "#Remove noise\n",
    "prots_nonoise = sr.remove_small_elements(prots, lam)"
   ]
  },
  {
   "cell_type": "code",
   "execution_count": 12,
   "metadata": {
    "collapsed": false
   },
   "outputs": [
    {
     "name": "stdout",
     "output_type": "stream",
     "text": [
      "Indents are correct: False\n"
     ]
    }
   ],
   "source": [
    "_, _, indents_true, prots_true = \\\n",
    "    sr.read_matfile('../../../TestData/Binary/Binary_all_types_noise_binregions.mat', vizualize=False)\n",
    "print 'Indents are correct:', sr.image_diff(prots_true, prots_nonoise)"
   ]
  },
  {
   "cell_type": "code",
   "execution_count": 11,
   "metadata": {
    "collapsed": false
   },
   "outputs": [],
   "source": [
    "sr.show_image(filled)\n",
    "sr.show_image( cv2.morphologyEx(filled, cv2.MORPH_OPEN, SE))\n",
    "sr.show_image( cv2.morphologyEx(filled, cv2.MORPH_TOPHAT, SE))"
   ]
  },
  {
   "cell_type": "code",
   "execution_count": 13,
   "metadata": {
    "collapsed": false
   },
   "outputs": [],
   "source": [
    "sr.show_image(prots_nonoise, \"my prots\")\n",
    "sr.show_image(prots_true, \"true prots\")\n",
    "sr.show_image(prots_nonoise, \"my prots\")"
   ]
  },
  {
   "cell_type": "code",
   "execution_count": 12,
   "metadata": {
    "collapsed": true
   },
   "outputs": [],
   "source": [
    " ?cv2.morphologyEx"
   ]
  },
  {
   "cell_type": "code",
   "execution_count": 20,
   "metadata": {
    "collapsed": false
   },
   "outputs": [],
   "source": [
    "sr.show_image(SE*255)"
   ]
  },
  {
   "cell_type": "code",
   "execution_count": 29,
   "metadata": {
    "collapsed": false
   },
   "outputs": [
    {
     "name": "stdout",
     "output_type": "stream",
     "text": [
      "{'SE_n': array([[0, 0, 0, ..., 0, 0, 0],\n",
      "       [0, 0, 0, ..., 0, 0, 0],\n",
      "       [0, 0, 0, ..., 0, 0, 0],\n",
      "       ..., \n",
      "       [0, 0, 0, ..., 0, 0, 0],\n",
      "       [0, 0, 0, ..., 0, 0, 0],\n",
      "       [0, 0, 0, ..., 0, 0, 0]], dtype=uint8), '__version__': '1.0', '__header__': 'MATLAB 5.0 MAT-file, Platform: GLNXA64, Created on: Tue Mar 15 18:06:08 2016', '__globals__': []}\n"
     ]
    }
   ],
   "source": [
    "import scipy.io as sio\n",
    "se_matfile = sio.loadmat(\"../../../TestData/Binary/Binary_all_types_noise_SE.mat\")\n",
    "print se_matfile"
   ]
  },
  {
   "cell_type": "code",
   "execution_count": 31,
   "metadata": {
    "collapsed": false
   },
   "outputs": [
    {
     "data": {
      "text/plain": [
       "array([[0, 0, 0, ..., 0, 0, 0],\n",
       "       [0, 0, 0, ..., 0, 0, 0],\n",
       "       [0, 0, 0, ..., 0, 0, 0],\n",
       "       ..., \n",
       "       [0, 0, 0, ..., 0, 0, 0],\n",
       "       [0, 0, 0, ..., 0, 0, 0],\n",
       "       [0, 0, 0, ..., 0, 0, 0]], dtype=uint8)"
      ]
     },
     "execution_count": 31,
     "metadata": {},
     "output_type": "execute_result"
    }
   ],
   "source": [
    "se_mat = se_matfile['SE_n']\n",
    "sr.show_image(se_mat*255)\n",
    "se_mat"
   ]
  },
  {
   "cell_type": "code",
   "execution_count": 34,
   "metadata": {
    "collapsed": false
   },
   "outputs": [
    {
     "name": "stdout",
     "output_type": "stream",
     "text": [
      "(41, 41)\n",
      "(43, 43)\n"
     ]
    }
   ],
   "source": [
    "print se_mat.shape\n",
    "print SE.shape"
   ]
  },
  {
   "cell_type": "code",
   "execution_count": null,
   "metadata": {
    "collapsed": true
   },
   "outputs": [],
   "source": []
  }
 ],
 "metadata": {
  "kernelspec": {
   "display_name": "Python 2",
   "language": "python",
   "name": "python2"
  },
  "language_info": {
   "codemirror_mode": {
    "name": "ipython",
    "version": 2
   },
   "file_extension": ".py",
   "mimetype": "text/x-python",
   "name": "python",
   "nbconvert_exporter": "python",
   "pygments_lexer": "ipython2",
   "version": "2.7.11"
  }
 },
 "nbformat": 4,
 "nbformat_minor": 0
}
