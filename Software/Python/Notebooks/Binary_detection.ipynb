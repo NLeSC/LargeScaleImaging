{
 "cells": [
  {
   "cell_type": "code",
   "execution_count": 1,
   "metadata": {
    "collapsed": false
   },
   "outputs": [],
   "source": [
    "import numpy as np\n",
    "import cv2\n",
    "import sys\n",
    "import os\n",
    "sys.path.insert(0, os.path.abspath('..'))\n",
    "\n",
    "import salientregions as sr\n",
    "import scipy.io as sio"
   ]
  },
  {
   "cell_type": "code",
   "execution_count": 2,
   "metadata": {
    "collapsed": false
   },
   "outputs": [
    {
     "ename": "error",
     "evalue": "/home/dafne/OpenCV/opencv-3.1.0/modules/imgproc/src/thresh.cpp:1204: error: (-215) src.type() == CV_8UC1 in function threshold\n",
     "output_type": "error",
     "traceback": [
      "\u001b[1;31m---------------------------------------------------------------------------\u001b[0m",
      "\u001b[1;31merror\u001b[0m                                     Traceback (most recent call last)",
      "\u001b[1;32m<ipython-input-2-4e1fcbf56f60>\u001b[0m in \u001b[0;36m<module>\u001b[1;34m()\u001b[0m\n\u001b[0;32m      1\u001b[0m \u001b[1;31m#Load the image\u001b[0m\u001b[1;33m\u001b[0m\u001b[1;33m\u001b[0m\u001b[0m\n\u001b[0;32m      2\u001b[0m \u001b[0mpath_to_image\u001b[0m \u001b[1;33m=\u001b[0m \u001b[1;34m'../../../TestData/Binary/Binary_holes.png'\u001b[0m\u001b[1;33m\u001b[0m\u001b[0m\n\u001b[1;32m----> 3\u001b[1;33m \u001b[0mholesim\u001b[0m \u001b[1;33m=\u001b[0m \u001b[0msr\u001b[0m\u001b[1;33m.\u001b[0m\u001b[0mbinarize\u001b[0m\u001b[1;33m(\u001b[0m\u001b[0mcv2\u001b[0m\u001b[1;33m.\u001b[0m\u001b[0mimread\u001b[0m\u001b[1;33m(\u001b[0m\u001b[0mpath_to_image\u001b[0m\u001b[1;33m)\u001b[0m\u001b[1;33m,\u001b[0m \u001b[0mvisualize\u001b[0m\u001b[1;33m=\u001b[0m\u001b[0mFalse\u001b[0m\u001b[1;33m)\u001b[0m\u001b[1;33m\u001b[0m\u001b[0m\n\u001b[0m\u001b[0;32m      4\u001b[0m \u001b[0mpath_to_image_islands\u001b[0m \u001b[1;33m=\u001b[0m \u001b[1;34m'../../../TestData/Binary/Binary_islands.png'\u001b[0m\u001b[1;33m\u001b[0m\u001b[0m\n\u001b[0;32m      5\u001b[0m \u001b[0mislandsim\u001b[0m \u001b[1;33m=\u001b[0m \u001b[0msr\u001b[0m\u001b[1;33m.\u001b[0m\u001b[0mbinarize\u001b[0m\u001b[1;33m(\u001b[0m\u001b[0mcv2\u001b[0m\u001b[1;33m.\u001b[0m\u001b[0mimread\u001b[0m\u001b[1;33m(\u001b[0m\u001b[0mpath_to_image_islands\u001b[0m\u001b[1;33m)\u001b[0m\u001b[1;33m,\u001b[0m \u001b[0mvisualize\u001b[0m\u001b[1;33m=\u001b[0m\u001b[0mFalse\u001b[0m\u001b[1;33m)\u001b[0m\u001b[1;33m\u001b[0m\u001b[0m\n",
      "\u001b[1;32m/home/dafne/SalientRegions/LargeScaleImaging/Software/Python/salientregions/helpers.pyc\u001b[0m in \u001b[0;36mbinarize\u001b[1;34m(img, threshold, visualize)\u001b[0m\n\u001b[0;32m     96\u001b[0m     '''\n\u001b[0;32m     97\u001b[0m     \u001b[1;32mif\u001b[0m \u001b[0mthreshold\u001b[0m \u001b[1;33m==\u001b[0m \u001b[1;33m-\u001b[0m\u001b[1;36m1\u001b[0m\u001b[1;33m:\u001b[0m\u001b[1;33m\u001b[0m\u001b[0m\n\u001b[1;32m---> 98\u001b[1;33m         \u001b[0m_\u001b[0m\u001b[1;33m,\u001b[0m \u001b[0mbinarized\u001b[0m \u001b[1;33m=\u001b[0m \u001b[0mcv2\u001b[0m\u001b[1;33m.\u001b[0m\u001b[0mthreshold\u001b[0m\u001b[1;33m(\u001b[0m\u001b[0mimg\u001b[0m\u001b[1;33m,\u001b[0m \u001b[1;36m0\u001b[0m\u001b[1;33m,\u001b[0m \u001b[1;36m255\u001b[0m\u001b[1;33m,\u001b[0m \u001b[0mcv2\u001b[0m\u001b[1;33m.\u001b[0m\u001b[0mTHRESH_BINARY\u001b[0m\u001b[1;33m+\u001b[0m\u001b[0mcv2\u001b[0m\u001b[1;33m.\u001b[0m\u001b[0mTHRESH_OTSU\u001b[0m\u001b[1;33m)\u001b[0m\u001b[1;33m\u001b[0m\u001b[0m\n\u001b[0m\u001b[0;32m     99\u001b[0m     \u001b[1;32melse\u001b[0m\u001b[1;33m:\u001b[0m\u001b[1;33m\u001b[0m\u001b[0m\n\u001b[0;32m    100\u001b[0m         \u001b[0m_\u001b[0m\u001b[1;33m,\u001b[0m \u001b[0mbinarized\u001b[0m \u001b[1;33m=\u001b[0m \u001b[0mcv2\u001b[0m\u001b[1;33m.\u001b[0m\u001b[0mthreshold\u001b[0m\u001b[1;33m(\u001b[0m\u001b[0mimg\u001b[0m\u001b[1;33m,\u001b[0m \u001b[0mthreshold\u001b[0m\u001b[1;33m,\u001b[0m \u001b[1;36m255\u001b[0m\u001b[1;33m,\u001b[0m \u001b[0mcv2\u001b[0m\u001b[1;33m.\u001b[0m\u001b[0mTHRESH_BINARY\u001b[0m\u001b[1;33m)\u001b[0m\u001b[1;33m\u001b[0m\u001b[0m\n",
      "\u001b[1;31merror\u001b[0m: /home/dafne/OpenCV/opencv-3.1.0/modules/imgproc/src/thresh.cpp:1204: error: (-215) src.type() == CV_8UC1 in function threshold\n"
     ]
    }
   ],
   "source": [
    "#Load the image\n",
    "path_to_image = '../../../TestData/Binary/Binary_holes.png'\n",
    "holesim = sr.binarize(cv2.imread(path_to_image), threshold=128, visualize=False)\n",
    "path_to_image_islands = '../../../TestData/Binary/Binary_islands.png'\n",
    "islandsim = sr.binarize(cv2.imread(path_to_image_islands), threshold=128, visualize=False)\n",
    "path_to_image_example = '../../../TestData/Binary/Binary_all_types_noise.png'\n",
    "allim = sr.binarize(cv2.imread(path_to_image_example), threshold=128, visualize=False)\n",
    "path_to_image_indpred = '../../../TestData/Binary/Binary_indentations_protrusions.png'\n",
    "indpredim = sr.binarize(cv2.imread(path_to_image_indpred), threshold=128, visualize=False)\n",
    "path_to_image_nested = '../../../TestData/Binary/Binary_nested.png'\n",
    "nestedim = sr.binarize(cv2.imread(path_to_image_nested), threshold=128, visualize=False)"
   ]
  },
  {
   "cell_type": "code",
   "execution_count": 4,
   "metadata": {
    "collapsed": true
   },
   "outputs": [],
   "source": [
    "img = nestedim\n",
    "sr.show_image(img)"
   ]
  },
  {
   "cell_type": "code",
   "execution_count": 5,
   "metadata": {
    "collapsed": false
   },
   "outputs": [
    {
     "name": "stdout",
     "output_type": "stream",
     "text": [
      "lambda is: 80.000000\n",
      "SE size is: 31.000000\n",
      "lambdahi is: 8.000000\n",
      "SEhi size is: 15.000000\n"
     ]
    }
   ],
   "source": [
    "#Define parameters and get structuring elements\n",
    "connectivity = 4\n",
    "area_factor = 0.05\n",
    "SE_size_factor = 0.075\n",
    "SE, lam = sr.get_SE(img, SE_size_factor)\n",
    "SEhi, lamhi = sr.get_SEhi(SE, lam)\n",
    "print 'lambda is: %f' % lam\n",
    "print 'SE size is: %f' % SE.shape[0]\n",
    "print 'lambdahi is: %f' % lamhi\n",
    "print 'SEhi size is: %f' % SEhi.shape[0]"
   ]
  },
  {
   "cell_type": "code",
   "execution_count": 6,
   "metadata": {
    "collapsed": false
   },
   "outputs": [
    {
     "name": "stdout",
     "output_type": "stream",
     "text": [
      "SE size is: 31\n",
      "SEhi size is: 15\n"
     ]
    }
   ],
   "source": [
    "SE_mat = sio.loadmat(\"../../../TestData/Binary/SE_neighb_nested.mat\")['SE_n'] \n",
    "SEhi_mat = sio.loadmat(\"../../../TestData/Binary/SEhi_neighb_nested.mat\")['SEhi_n']\n",
    "print 'SE size is: %i' % SE_mat.shape[0]\n",
    "print 'SEhi size is: %i' % SEhi_mat.shape[0]"
   ]
  },
  {
   "cell_type": "code",
   "execution_count": 7,
   "metadata": {
    "collapsed": false
   },
   "outputs": [],
   "source": [
    "#get holes\n",
    "filled, holes = sr.get_holes(img, lam=lam, visualize=False)\n",
    "#sr.show_image(holes)"
   ]
  },
  {
   "cell_type": "code",
   "execution_count": 8,
   "metadata": {
    "collapsed": false
   },
   "outputs": [],
   "source": [
    "#get islands\n",
    "filledinv, islands = sr.get_islands(img, lam=lam, visualize=False)\n",
    "#sr.show_image(islands)"
   ]
  },
  {
   "cell_type": "code",
   "execution_count": 9,
   "metadata": {
    "collapsed": false
   },
   "outputs": [],
   "source": [
    "#filled, prots = sr.get_protrusions(img, filled=filled, lam=lam, visualize=True)\n",
    "filled, prots = sr.get_protrusions(img, filled, holes, SE=SE_mat, SEhi=SEhi_mat, lam=lam, visualize=False)\n",
    "filledinv, indents = sr.get_indentations(img, filledinv, islands, SE=SE_mat, SEhi=SEhi_mat, lam=lam, visualize=True)"
   ]
  },
  {
   "cell_type": "code",
   "execution_count": 10,
   "metadata": {
    "collapsed": false
   },
   "outputs": [],
   "source": [
    "holes_true, islands_true, indents_true, prots_true = \\\n",
    "    sr.read_matfile('../../../TestData/Binary/Binary_nested_binregions.mat', visualize=False)"
   ]
  },
  {
   "cell_type": "code",
   "execution_count": 11,
   "metadata": {
    "collapsed": false,
    "scrolled": true
   },
   "outputs": [
    {
     "data": {
      "text/plain": [
       "False"
      ]
     },
     "execution_count": 11,
     "metadata": {},
     "output_type": "execute_result"
    }
   ],
   "source": [
    "elements_visualized = sr.visualize_elements(img, holes=holes, islands=islands, protrusions=prots, \n",
    "                                            indentations=indents, display_name='detected salient regions')\n",
    "trueelements_visualized = sr.visualize_elements(img, \n",
    "                                             holes=holes_true, islands=islands_true, \n",
    "                                             protrusions=prots_true, indentations=indents_true,\n",
    "                                             display_name='true salient regions')\n",
    "sr.image_diff(elements_visualized, trueelements_visualized)"
   ]
  },
  {
   "cell_type": "code",
   "execution_count": null,
   "metadata": {
    "collapsed": true
   },
   "outputs": [],
   "source": []
  }
 ],
 "metadata": {
  "kernelspec": {
   "display_name": "Python 2",
   "language": "python",
   "name": "python2"
  },
  "language_info": {
   "codemirror_mode": {
    "name": "ipython",
    "version": 2
   },
   "file_extension": ".py",
   "mimetype": "text/x-python",
   "name": "python",
   "nbconvert_exporter": "python",
   "pygments_lexer": "ipython2",
   "version": "2.7.11"
  }
 },
 "nbformat": 4,
 "nbformat_minor": 0
}
