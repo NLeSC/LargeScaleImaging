{
 "cells": [
  {
   "cell_type": "code",
   "execution_count": 2,
   "metadata": {
    "collapsed": true
   },
   "outputs": [],
   "source": [
    "import numpy as np\n",
    "import cv2"
   ]
  },
  {
   "cell_type": "code",
   "execution_count": 7,
   "metadata": {
    "collapsed": true
   },
   "outputs": [],
   "source": [
    "def show_image(img):\n",
    "    WINDOW_NAME = 'image'\n",
    "    cv2.namedWindow(WINDOW_NAME)\n",
    "    cv2.startWindowThread()\n",
    "    cv2.imshow(WINDOW_NAME, img)\n",
    "    cv2.waitKey(10000)\n",
    "    cv2.destroyAllWindows()"
   ]
  },
  {
   "cell_type": "code",
   "execution_count": 31,
   "metadata": {
    "collapsed": true
   },
   "outputs": [],
   "source": [
    "#Load the image\n",
    "path_to_image = '../../../../holes.jpg'\n",
    "holes = cv2.imread(path_to_image)\n",
    "path_to_image_islands = '../../../../islands.jpg'\n",
    "islands = cv2.imread(path_to_image_islands)\n",
    "path_to_image_example = '../../../../binary.png'\n",
    "example = cv2.imread(path_to_image_example)\n",
    "show_image(holes)\n",
    "show_image(islands)\n",
    "show_image(example)"
   ]
  },
  {
   "cell_type": "code",
   "execution_count": 46,
   "metadata": {
    "collapsed": true
   },
   "outputs": [],
   "source": [
    "#Binarize according to threshold\n",
    "threshold = 127\n",
    "ret, binarized = cv2.threshold(example, threshold, 255, cv2.THRESH_BINARY)\n",
    "binarized = binarized[:,:,0]\n",
    "show_image(binarized)"
   ]
  },
  {
   "cell_type": "code",
   "execution_count": 81,
   "metadata": {
    "collapsed": false
   },
   "outputs": [],
   "source": [
    "#fill image using contours\n",
    "#The option RETR_CCOMP finds two level contours, the top level are those of the CCs\n",
    "filled = binarized.copy()\n",
    "img, contours, hierarchy = cv2.findContours(filled,cv2.RETR_CCOMP,cv2.CHAIN_APPROX_SIMPLE)\n",
    "for cnt in contours:\n",
    "    cv2.drawContours(filled, [cnt], 0, 255, -1)\n",
    "show_image(filled)"
   ]
  },
  {
   "cell_type": "code",
   "execution_count": 80,
   "metadata": {
    "collapsed": false
   },
   "outputs": [],
   "source": [
    "#Get the holes by substracting the filled image\n",
    "all_the_holes = cv2.bitwise_and(filled, cv2.bitwise_not(binarized))\n",
    "holes_opened = cv2.morphologyEx(all_the_holes, cv2.MORPH_OPEN, np.ones((4,4),np.uint8))\n",
    "show_image(all_the_holes)\n",
    "show_image(holes_opened)"
   ]
  },
  {
   "cell_type": "code",
   "execution_count": 12,
   "metadata": {
    "collapsed": false
   },
   "outputs": [],
   "source": [
    "#Find the connected components (similar to bwlabel)\n",
    "retval, labels = cv2.connectedComponents(binarized[:,:,0])"
   ]
  },
  {
   "cell_type": "code",
   "execution_count": 26,
   "metadata": {
    "collapsed": false
   },
   "outputs": [
    {
     "name": "stdout",
     "output_type": "stream",
     "text": [
      "2.0 127\n"
     ]
    },
    {
     "name": "stderr",
     "output_type": "stream",
     "text": [
      "/home/dafne/anaconda2/lib/python2.7/site-packages/ipykernel/__main__.py:8: DeprecationWarning: using a non-integer number instead of an integer will result in an error in the future\n"
     ]
    }
   ],
   "source": [
    "#An ugly transformation to see the CC's in different colors\n",
    "dim = np.ceil(np.power(retval, 1.0/3))\n",
    "step = int(np.floor(255/dim))\n",
    "print dim, step\n",
    "rvalues = np.arange(int(np.floor(step/2)),256, step)\n",
    "colormapping = dict([(i,[rvalues[np.mod(i, dim)], \n",
    "                         rvalues[np.floor(np.mod(i, dim*dim)/dim)], \n",
    "                         rvalues[np.floor(i/dim)]]) for i in xrange(1, retval)])\n",
    "colormapping[0] = [0,0,0]\n",
    "colored_labels = np.array([[colormapping[i] for i in x]  for x in labels], dtype='uint8')\n",
    "show_image(colored_labels)"
   ]
  },
  {
   "cell_type": "code",
   "execution_count": null,
   "metadata": {
    "collapsed": true
   },
   "outputs": [],
   "source": []
  }
 ],
 "metadata": {
  "kernelspec": {
   "display_name": "Python 2",
   "language": "python",
   "name": "python2"
  },
  "language_info": {
   "codemirror_mode": {
    "name": "ipython",
    "version": 2
   },
   "file_extension": ".py",
   "mimetype": "text/x-python",
   "name": "python",
   "nbconvert_exporter": "python",
   "pygments_lexer": "ipython2",
   "version": "2.7.11"
  }
 },
 "nbformat": 4,
 "nbformat_minor": 0
}
