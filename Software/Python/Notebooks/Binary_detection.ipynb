{
 "cells": [
  {
   "cell_type": "code",
   "execution_count": 1,
   "metadata": {
    "collapsed": true
   },
   "outputs": [],
   "source": [
    "import numpy as np\n",
    "import cv2"
   ]
  },
  {
   "cell_type": "code",
   "execution_count": 2,
   "metadata": {
    "collapsed": true
   },
   "outputs": [],
   "source": [
    "def show_image(img, window_name='image'):\n",
    "    cv2.namedWindow(window_name)\n",
    "    cv2.startWindowThread()\n",
    "    cv2.imshow(window_name, img)\n",
    "    cv2.waitKey(10000)\n",
    "    cv2.destroyAllWindows()"
   ]
  },
  {
   "cell_type": "code",
   "execution_count": 3,
   "metadata": {
    "collapsed": true
   },
   "outputs": [],
   "source": [
    "def get_SE(img, SE_size_factor=0.02):\n",
    "    nrows, ncols = img.shape[0], img.shape[1]\n",
    "    ROI_area = nrows*ncols\n",
    "    SE_size = SE_size_factor*np.sqrt(ROI_area/np.pi)\n",
    "    SE = np.ones((SE_size,SE_size))\n",
    "    lam = 5*SE_size\n",
    "    return SE, lam"
   ]
  },
  {
   "cell_type": "code",
   "execution_count": 4,
   "metadata": {
    "collapsed": true
   },
   "outputs": [],
   "source": [
    "def binarize(img, threshold=127, vizualize=True):\n",
    "    ret, binarized = cv2.threshold(img, threshold, 255, cv2.THRESH_BINARY)\n",
    "    binarized = binarized[:,:,0]\n",
    "    if(vizualize):\n",
    "        show_image(binarized)\n",
    "    return binarized"
   ]
  },
  {
   "cell_type": "code",
   "execution_count": 5,
   "metadata": {
    "collapsed": false
   },
   "outputs": [],
   "source": [
    "def fill_image(img, lam=20, vizualize=True):\n",
    "    filled = img.copy()\n",
    "    filled_small = np.zeros(example.shape, dtype='uint8')\n",
    "    img2, contours, hierarchy = cv2.findContours(filled,cv2.RETR_CCOMP,cv2.CHAIN_APPROX_SIMPLE)\n",
    "    for cnt in contours:\n",
    "        #Fill the original image for all the contours\n",
    "        cv2.drawContours(filled, [cnt], 0, 255, -1)\n",
    "        #If it's a small contour, draw it to the noise-image\n",
    "        if cv2.contourArea(cnt) < lam:\n",
    "            cv2.drawContours(filled_small, [cnt], 0, 255, -1)\n",
    "            \n",
    "    if(vizualize):\n",
    "        show_image(filled, 'filled image')\n",
    "        show_image(filled_small, 'filled small elements')\n",
    "    \n",
    "    return filled, filled_small"
   ]
  },
  {
   "cell_type": "code",
   "execution_count": 6,
   "metadata": {
    "collapsed": false
   },
   "outputs": [],
   "source": [
    "def get_holes(img, lam=20, vizualize=True):\n",
    "    if(vizualize):\n",
    "        show_image(img, 'original')\n",
    "\n",
    "    #retrieve the filled image and the filled small elements\n",
    "    filled, filled_small = fill_image(img, lam, vizualize)\n",
    "    #get all the holes (including those that are noise)\n",
    "    all_the_holes = cv2.bitwise_and(filled, cv2.bitwise_not(img))\n",
    "    #Substract the noise elements\n",
    "    theholes = cv2.bitwise_and(all_the_holes, cv2.bitwise_not(filled_small))\n",
    "\n",
    "    if(vizualize):\n",
    "        show_image(all_the_holes, 'holes with noise')\n",
    "        show_image(theholes, 'holes without noise')\n",
    "    \n",
    "    return filled, theholes"
   ]
  },
  {
   "cell_type": "code",
   "execution_count": 7,
   "metadata": {
    "collapsed": true
   },
   "outputs": [],
   "source": [
    "def get_islands(img, lam=20, vizualize=True):\n",
    "    invimg = cv2.bitwise_not(img)\n",
    "    invfilled, islands = get_holes(invimg, lam, vizualize)\n",
    "    return invfilled, islands"
   ]
  },
  {
   "cell_type": "code",
   "execution_count": null,
   "metadata": {
    "collapsed": true
   },
   "outputs": [],
   "source": [
    "def get_protrusions(img, filled, SE, lam):\n",
    "    filled, filled_small = fill_image(img, lam)\n",
    "    fill_big = cv2.bitwise_and(filled, cv2.bitwise_not(cv2.bitwise_and(img, filled_small)))"
   ]
  },
  {
   "cell_type": "code",
   "execution_count": 8,
   "metadata": {
    "collapsed": false
   },
   "outputs": [],
   "source": [
    "#Load the image\n",
    "path_to_image = '../../../TestData/Binary/Binary_holes.png'\n",
    "holes = binarize(cv2.imread(path_to_image))\n",
    "path_to_image_islands = '../../../TestData/Binary/Binary_islands.png'\n",
    "islands = binarize(cv2.imread(path_to_image_islands))\n",
    "path_to_image_example = '../../../TestData/Binary/Binary_all_types_noise.png'\n",
    "example = binarize(cv2.imread(path_to_image_example))\n",
    "path_to_image_indpred = '../../../TestData/Binary/Binary_indentations_protrusions.png'\n",
    "indpred = binarize(cv2.imread(path_to_image_indpred))\n",
    "path_to_image_nested = '../../../TestData/Binary/Binary_nested.png'\n",
    "nested = binarize(cv2.imread(path_to_image_nested))"
   ]
  },
  {
   "cell_type": "code",
   "execution_count": 9,
   "metadata": {
    "collapsed": false
   },
   "outputs": [
    {
     "name": "stdout",
     "output_type": "stream",
     "text": [
      "lambda is: 36.108133\n"
     ]
    }
   ],
   "source": [
    "SE, lam = get_SE(example, 0.05)\n",
    "print 'lambda is: %f' % lam\n",
    "#holesim_filled, holesim_holes = get_holes(holes)\n",
    "#islandsim_filled, islandsim_holes = get_holes(islands)\n",
    "alltypes_filled, alltypes_holes = get_holes(example, lam)\n",
    "#nested_filled, nested_holes = get_holes(nested)"
   ]
  },
  {
   "cell_type": "code",
   "execution_count": 40,
   "metadata": {
    "collapsed": false
   },
   "outputs": [],
   "source": [
    "holesim_filledinv, holesim_islands = get_islands(holes)\n",
    "islandsim_filledinv, islandsim_islands = get_islands(islands)\n",
    "alltypes_filledinv, alltypes_islands = get_islands(example)"
   ]
  },
  {
   "cell_type": "code",
   "execution_count": 12,
   "metadata": {
    "collapsed": false
   },
   "outputs": [],
   "source": [
    "#Find the connected components (similar to bwlabel)\n",
    "retval, labels = cv2.connectedComponents(binarized[:,:,0])"
   ]
  },
  {
   "cell_type": "code",
   "execution_count": 26,
   "metadata": {
    "collapsed": false
   },
   "outputs": [
    {
     "name": "stdout",
     "output_type": "stream",
     "text": [
      "2.0 127\n"
     ]
    },
    {
     "name": "stderr",
     "output_type": "stream",
     "text": [
      "/home/dafne/anaconda2/lib/python2.7/site-packages/ipykernel/__main__.py:8: DeprecationWarning: using a non-integer number instead of an integer will result in an error in the future\n"
     ]
    }
   ],
   "source": [
    "#An ugly transformation to see the CC's in different colors\n",
    "dim = np.ceil(np.power(retval, 1.0/3))\n",
    "step = int(np.floor(255/dim))\n",
    "print dim, step\n",
    "rvalues = np.arange(int(np.floor(step/2)),256, step)\n",
    "colormapping = dict([(i,[rvalues[np.mod(i, dim)], \n",
    "                         rvalues[np.floor(np.mod(i, dim*dim)/dim)], \n",
    "                         rvalues[np.floor(i/dim)]]) for i in xrange(1, retval)])\n",
    "colormapping[0] = [0,0,0]\n",
    "colored_labels = np.array([[colormapping[i] for i in x]  for x in labels], dtype='uint8')\n",
    "show_image(colored_labels)"
   ]
  },
  {
   "cell_type": "code",
   "execution_count": 15,
   "metadata": {
    "collapsed": false
   },
   "outputs": [],
   "source": [
    "#Experiments for indentation removal\n",
    "#TODO: there are still some boundaries shown in fill_big!\n",
    "SE, lam = get_SE(example, 0.15)\n",
    "#print SE\n",
    "img = example\n",
    "filled, filled_small = fill_image(img, lam)\n",
    "fill_big = cv2.bitwise_and(filled, cv2.bitwise_not(cv2.bitwise_and(img, filled_small)))\n",
    "show_image(fill_big)\n",
    "#tophat = cv2.morphologyEx(fill_big, cv2.MORPH_TOPHAT, SE)"
   ]
  },
  {
   "cell_type": "code",
   "execution_count": null,
   "metadata": {
    "collapsed": false
   },
   "outputs": [],
   "source": []
  }
 ],
 "metadata": {
  "kernelspec": {
   "display_name": "Python 2",
   "language": "python",
   "name": "python2"
  },
  "language_info": {
   "codemirror_mode": {
    "name": "ipython",
    "version": 2
   },
   "file_extension": ".py",
   "mimetype": "text/x-python",
   "name": "python",
   "nbconvert_exporter": "python",
   "pygments_lexer": "ipython2",
   "version": "2.7.11"
  }
 },
 "nbformat": 4,
 "nbformat_minor": 0
}
