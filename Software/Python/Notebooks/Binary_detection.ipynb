{
 "cells": [
  {
   "cell_type": "code",
   "execution_count": 2,
   "metadata": {
    "collapsed": false
   },
   "outputs": [],
   "source": [
    "import numpy as np\n",
    "import cv2\n",
    "import sys\n",
    "import os\n",
    "sys.path.insert(0, os.path.abspath('..'))\n",
    "\n",
    "import salientregions as sr\n",
    "import scipy.io as sio"
   ]
  },
  {
   "cell_type": "code",
   "execution_count": 3,
   "metadata": {
    "collapsed": false
   },
   "outputs": [],
   "source": [
    "#Load the image\n",
    "path_to_image = '../../../TestData/Binary/Binary_holes.png'\n",
    "holesim = sr.binarize(cv2.imread(path_to_image), vizualize=False)\n",
    "path_to_image_islands = '../../../TestData/Binary/Binary_islands.png'\n",
    "islandsim = sr.binarize(cv2.imread(path_to_image_islands), vizualize=False)\n",
    "path_to_image_example = '../../../TestData/Binary/Binary_all_types_noise.png'\n",
    "allim = sr.binarize(cv2.imread(path_to_image_example), vizualize=False)\n",
    "path_to_image_indpred = '../../../TestData/Binary/Binary_indentations_protrusions.png'\n",
    "indpredim = sr.binarize(cv2.imread(path_to_image_indpred), vizualize=False)\n",
    "path_to_image_nested = '../../../TestData/Binary/Binary_nested.png'\n",
    "nestedim = sr.binarize(cv2.imread(path_to_image_nested), vizualize=False)"
   ]
  },
  {
   "cell_type": "code",
   "execution_count": 4,
   "metadata": {
    "collapsed": true
   },
   "outputs": [],
   "source": [
    "img = nestedim\n",
    "sr.show_image(img)"
   ]
  },
  {
   "cell_type": "code",
   "execution_count": 5,
   "metadata": {
    "collapsed": false
   },
   "outputs": [
    {
     "name": "stdout",
     "output_type": "stream",
     "text": [
      "lambda is: 80.000000\n",
      "SE size is: 31.000000\n",
      "lambdahi is: 8.000000\n",
      "SEhi size is: 15.000000\n"
     ]
    }
   ],
   "source": [
    "#Define parameters and get structuring elements\n",
    "connectivity = 4\n",
    "area_factor = 0.05\n",
    "SE_size_factor = 0.075\n",
    "SE, lam = sr.get_SE(img, SE_size_factor)\n",
    "SEhi, lamhi = sr.get_SEhi(SE, lam)\n",
    "print 'lambda is: %f' % lam\n",
    "print 'SE size is: %f' % SE.shape[0]\n",
    "print 'lambdahi is: %f' % lamhi\n",
    "print 'SEhi size is: %f' % SEhi.shape[0]"
   ]
  },
  {
   "cell_type": "code",
   "execution_count": 6,
   "metadata": {
    "collapsed": false
   },
   "outputs": [
    {
     "name": "stdout",
     "output_type": "stream",
     "text": [
      "SE size is: 31\n",
      "SEhi size is: 15\n"
     ]
    }
   ],
   "source": [
    "SE_mat = sio.loadmat(\"../../../TestData/Binary/SE_neighb_nested.mat\")['SE_n'] \n",
    "SEhi_mat = sio.loadmat(\"../../../TestData/Binary/SEhi_neighb_nested.mat\")['SEhi_n']\n",
    "print 'SE size is: %i' % SE_mat.shape[0]\n",
    "print 'SEhi size is: %i' % SEhi_mat.shape[0]"
   ]
  },
  {
   "cell_type": "code",
   "execution_count": 7,
   "metadata": {
    "collapsed": false
   },
   "outputs": [],
   "source": [
    "#get holes\n",
    "filled, holes = sr.get_holes(img, lam=lam, vizualize=False)\n",
    "#sr.show_image(holes)"
   ]
  },
  {
   "cell_type": "code",
   "execution_count": 8,
   "metadata": {
    "collapsed": false
   },
   "outputs": [],
   "source": [
    "#get islands\n",
    "filledinv, islands = sr.get_islands(img, lam=lam, vizualize=False)\n",
    "#sr.show_image(islands)"
   ]
  },
  {
   "cell_type": "code",
   "execution_count": 9,
   "metadata": {
    "collapsed": false
   },
   "outputs": [],
   "source": [
    "#filled, prots = sr.get_protrusions(img, filled=filled, lam=lam, vizualize=True)\n",
    "filled, prots = sr.get_protrusions(img, filled, holes, SE=SE_mat, SEhi=SEhi_mat, lam=lam, vizualize=False)\n",
    "filledinv, indents = sr.get_indentations(img, filledinv, islands, SE=SE_mat, SEhi=SEhi_mat, lam=lam, vizualize=True)"
   ]
  },
  {
   "cell_type": "code",
   "execution_count": 10,
   "metadata": {
    "collapsed": false
   },
   "outputs": [],
   "source": [
    "holes_true, islands_true, indents_true, prots_true = \\\n",
    "    sr.read_matfile('../../../TestData/Binary/Binary_nested_binregions.mat', vizualize=False)"
   ]
  },
  {
   "cell_type": "code",
   "execution_count": 11,
   "metadata": {
    "collapsed": false,
    "scrolled": true
   },
   "outputs": [
    {
     "data": {
      "text/plain": [
       "False"
      ]
     },
     "execution_count": 11,
     "metadata": {},
     "output_type": "execute_result"
    }
   ],
   "source": [
    "elements_vizualized = sr.vizualize_elements(img, holes=holes, islands=islands, protrusions=prots, \n",
    "                                            indentations=indents, display_name='detected salient regions')\n",
    "trueelements_vizualized = sr.vizualize_elements(img, \n",
    "                                             holes=holes_true, islands=islands_true, \n",
    "                                             protrusions=prots_true, indentations=indents_true,\n",
    "                                             display_name='true salient regions')\n",
    "sr.image_diff(elements_vizualized, trueelements_vizualized)"
   ]
  },
  {
   "cell_type": "code",
   "execution_count": null,
   "metadata": {
    "collapsed": true
   },
   "outputs": [],
   "source": []
  }
 ],
 "metadata": {
  "kernelspec": {
   "display_name": "Python 2",
   "language": "python",
   "name": "python2"
  },
  "language_info": {
   "codemirror_mode": {
    "name": "ipython",
    "version": 2
   },
   "file_extension": ".py",
   "mimetype": "text/x-python",
   "name": "python",
   "nbconvert_exporter": "python",
   "pygments_lexer": "ipython2",
   "version": "2.7.11"
  }
 },
 "nbformat": 4,
 "nbformat_minor": 0
}
